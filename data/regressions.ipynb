{
 "cells": [
  {
   "cell_type": "code",
   "execution_count": 75,
   "metadata": {
    "collapsed": false
   },
   "outputs": [],
   "source": [
    "import pandas as pd\n",
    "import statsmodels.formula.api as smf\n",
    "import statsmodels.api as sm\n",
    "import numpy as np"
   ]
  },
  {
   "cell_type": "code",
   "execution_count": 121,
   "metadata": {
    "collapsed": false
   },
   "outputs": [],
   "source": [
    "out_df = pd.DataFrame(columns=['Year', 'Total', 'formattedAddress'])"
   ]
  },
  {
   "cell_type": "code",
   "execution_count": 122,
   "metadata": {
    "collapsed": false
   },
   "outputs": [],
   "source": [
    "pop = pd.read_csv('population.csv',sep=',')\n",
    "grouped = pop.groupby('formattedAddress')"
   ]
  },
  {
   "cell_type": "code",
   "execution_count": 123,
   "metadata": {
    "collapsed": false
   },
   "outputs": [],
   "source": [
    "for county, group in grouped:\n",
    "    ada = grouped.get_group(county)\n",
    "    data = ada[['Year', 'Total']].dropna().astype('float')\n",
    "    model = smf.ols(formula=\"Total ~ Year\", data=data)\n",
    "    result = model.fit()\n",
    "    future_years = pd.DataFrame(np.arange(2016,2026).astype('float'), columns=['Year'])\n",
    "    sm.add_constant(future_years)\n",
    "    new_data = pd.DataFrame({ 'Total': result.predict(future_years), 'Year': future_years['Year'],\n",
    "               'formattedAddress': np.repeat(county, 10)  })\n",
    "    existing_data = pd.DataFrame({'Total': data['Total'], 'Year': data['Year'],\n",
    "                              'formattedAddress': np.repeat(county, data['Year'].size)})\n",
    "    out_df = out_df.append(existing_data)\n",
    "    out_df = out_df.append(new_data)"
   ]
  },
  {
   "cell_type": "code",
   "execution_count": 126,
   "metadata": {
    "collapsed": false
   },
   "outputs": [],
   "source": [
    "out_df.to_csv('predicted_population.csv', columns=['Total','Year','formattedAddress'], index=False)"
   ]
  },
  {
   "cell_type": "code",
   "execution_count": 170,
   "metadata": {
    "collapsed": false
   },
   "outputs": [],
   "source": [
    "water = pd.read_csv('water.csv',sep=',')\n",
    "grouped = water.groupby('FIPS')\n",
    "out_df = pd.DataFrame(columns=['Water', 'Year', 'FIPS'])\n",
    "missing = 0\n",
    "for county, ada in grouped:\n",
    "    ada = grouped.get_group(county)\n",
    "    data = ada[['YEAR', 'TO-WTotl']].dropna().astype('float')\n",
    "    data.columns = ['Year', 'Water']\n",
    "    model = smf.ols(formula=\"Water ~ Year\", data=data)\n",
    "    result = model.fit()\n",
    "    future_years = pd.DataFrame(np.arange(2016,2026).astype('float'), columns=['Year'])\n",
    "    sm.add_constant(future_years)\n",
    "    new_data = pd.DataFrame({ 'Water': result.predict(future_years), 'Year': future_years['Year'],\n",
    "           'FIPS': np.repeat(np.uint32(county), 10)  })\n",
    "    w = np.array(data['Water'])\n",
    "    y = np.array(data['Year'])\n",
    "    nan = np.nan\n",
    "    if w.size != 3:\n",
    "        missing = missing + 1\n",
    "        continue\n",
    "        \n",
    "    existing_data = pd.DataFrame({\n",
    "        'Water': [w[0], nan, nan, nan, nan, w[1], nan, nan, nan, nan, w[2]] },\n",
    "                             index=[y[0], 2001, 2002, 2003, 2004, y[1], 2006, 2007, 2008, 2009, y[2]])\n",
    "    existing_data = existing_data.interpolate(method='index')\n",
    "    existing_data = pd.DataFrame({ 'Water': existing_data['Water'], 'Year': existing_data.index,\n",
    "                             'FIPS': np.repeat(np.uint32(county), 11) })\n",
    "    out_df = out_df.append(existing_data)\n",
    "    out_df = out_df.append(new_data)"
   ]
  },
  {
   "cell_type": "code",
   "execution_count": 168,
   "metadata": {
    "collapsed": false
   },
   "outputs": [
    {
     "data": {
      "text/plain": [
       "698"
      ]
     },
     "execution_count": 168,
     "metadata": {},
     "output_type": "execute_result"
    }
   ],
   "source": [
    "missing"
   ]
  },
  {
   "cell_type": "code",
   "execution_count": 169,
   "metadata": {
    "collapsed": false
   },
   "outputs": [],
   "source": [
    "out_df.to_csv('predicted_water.csv', columns=['Water','Year','FIPS'], index=False)\n"
   ]
  },
  {
   "cell_type": "code",
   "execution_count": 139,
   "metadata": {
    "collapsed": false
   },
   "outputs": [
    {
     "data": {
      "text/html": [
       "<div>\n",
       "<table border=\"1\" class=\"dataframe\">\n",
       "  <thead>\n",
       "    <tr style=\"text-align: right;\">\n",
       "      <th></th>\n",
       "      <th>Total</th>\n",
       "      <th>Year</th>\n",
       "      <th>formattedAddress</th>\n",
       "    </tr>\n",
       "  </thead>\n",
       "  <tbody>\n",
       "    <tr>\n",
       "      <th>0</th>\n",
       "      <td>65.616667</td>\n",
       "      <td>2016.0</td>\n",
       "      <td>Yuma County, AZ, USA</td>\n",
       "    </tr>\n",
       "    <tr>\n",
       "      <th>1</th>\n",
       "      <td>67.446667</td>\n",
       "      <td>2017.0</td>\n",
       "      <td>Yuma County, AZ, USA</td>\n",
       "    </tr>\n",
       "    <tr>\n",
       "      <th>2</th>\n",
       "      <td>69.276667</td>\n",
       "      <td>2018.0</td>\n",
       "      <td>Yuma County, AZ, USA</td>\n",
       "    </tr>\n",
       "    <tr>\n",
       "      <th>3</th>\n",
       "      <td>71.106667</td>\n",
       "      <td>2019.0</td>\n",
       "      <td>Yuma County, AZ, USA</td>\n",
       "    </tr>\n",
       "    <tr>\n",
       "      <th>4</th>\n",
       "      <td>72.936667</td>\n",
       "      <td>2020.0</td>\n",
       "      <td>Yuma County, AZ, USA</td>\n",
       "    </tr>\n",
       "    <tr>\n",
       "      <th>5</th>\n",
       "      <td>74.766667</td>\n",
       "      <td>2021.0</td>\n",
       "      <td>Yuma County, AZ, USA</td>\n",
       "    </tr>\n",
       "    <tr>\n",
       "      <th>6</th>\n",
       "      <td>76.596667</td>\n",
       "      <td>2022.0</td>\n",
       "      <td>Yuma County, AZ, USA</td>\n",
       "    </tr>\n",
       "    <tr>\n",
       "      <th>7</th>\n",
       "      <td>78.426667</td>\n",
       "      <td>2023.0</td>\n",
       "      <td>Yuma County, AZ, USA</td>\n",
       "    </tr>\n",
       "    <tr>\n",
       "      <th>8</th>\n",
       "      <td>80.256667</td>\n",
       "      <td>2024.0</td>\n",
       "      <td>Yuma County, AZ, USA</td>\n",
       "    </tr>\n",
       "    <tr>\n",
       "      <th>9</th>\n",
       "      <td>82.086667</td>\n",
       "      <td>2025.0</td>\n",
       "      <td>Yuma County, AZ, USA</td>\n",
       "    </tr>\n",
       "  </tbody>\n",
       "</table>\n",
       "</div>"
      ],
      "text/plain": [
       "       Total    Year      formattedAddress\n",
       "0  65.616667  2016.0  Yuma County, AZ, USA\n",
       "1  67.446667  2017.0  Yuma County, AZ, USA\n",
       "2  69.276667  2018.0  Yuma County, AZ, USA\n",
       "3  71.106667  2019.0  Yuma County, AZ, USA\n",
       "4  72.936667  2020.0  Yuma County, AZ, USA\n",
       "5  74.766667  2021.0  Yuma County, AZ, USA\n",
       "6  76.596667  2022.0  Yuma County, AZ, USA\n",
       "7  78.426667  2023.0  Yuma County, AZ, USA\n",
       "8  80.256667  2024.0  Yuma County, AZ, USA\n",
       "9  82.086667  2025.0  Yuma County, AZ, USA"
      ]
     },
     "execution_count": 139,
     "metadata": {},
     "output_type": "execute_result"
    }
   ],
   "source": [
    "\n",
    "new_data"
   ]
  },
  {
   "cell_type": "code",
   "execution_count": 157,
   "metadata": {
    "collapsed": false
   },
   "outputs": [
    {
     "data": {
      "text/html": [
       "<div>\n",
       "<table border=\"1\" class=\"dataframe\">\n",
       "  <thead>\n",
       "    <tr style=\"text-align: right;\">\n",
       "      <th></th>\n",
       "      <th>FIPS</th>\n",
       "      <th>Water</th>\n",
       "      <th>Year</th>\n",
       "    </tr>\n",
       "  </thead>\n",
       "  <tbody>\n",
       "    <tr>\n",
       "      <th>2000.0</th>\n",
       "      <td>Yuma County, AZ, USA</td>\n",
       "      <td>37.250</td>\n",
       "      <td>2000.0</td>\n",
       "    </tr>\n",
       "    <tr>\n",
       "      <th>2001.0</th>\n",
       "      <td>Yuma County, AZ, USA</td>\n",
       "      <td>38.532</td>\n",
       "      <td>2001.0</td>\n",
       "    </tr>\n",
       "    <tr>\n",
       "      <th>2002.0</th>\n",
       "      <td>Yuma County, AZ, USA</td>\n",
       "      <td>39.814</td>\n",
       "      <td>2002.0</td>\n",
       "    </tr>\n",
       "    <tr>\n",
       "      <th>2003.0</th>\n",
       "      <td>Yuma County, AZ, USA</td>\n",
       "      <td>41.096</td>\n",
       "      <td>2003.0</td>\n",
       "    </tr>\n",
       "    <tr>\n",
       "      <th>2004.0</th>\n",
       "      <td>Yuma County, AZ, USA</td>\n",
       "      <td>42.378</td>\n",
       "      <td>2004.0</td>\n",
       "    </tr>\n",
       "    <tr>\n",
       "      <th>2005.0</th>\n",
       "      <td>Yuma County, AZ, USA</td>\n",
       "      <td>43.660</td>\n",
       "      <td>2005.0</td>\n",
       "    </tr>\n",
       "    <tr>\n",
       "      <th>2006.0</th>\n",
       "      <td>Yuma County, AZ, USA</td>\n",
       "      <td>46.038</td>\n",
       "      <td>2006.0</td>\n",
       "    </tr>\n",
       "    <tr>\n",
       "      <th>2007.0</th>\n",
       "      <td>Yuma County, AZ, USA</td>\n",
       "      <td>48.416</td>\n",
       "      <td>2007.0</td>\n",
       "    </tr>\n",
       "    <tr>\n",
       "      <th>2008.0</th>\n",
       "      <td>Yuma County, AZ, USA</td>\n",
       "      <td>50.794</td>\n",
       "      <td>2008.0</td>\n",
       "    </tr>\n",
       "    <tr>\n",
       "      <th>2009.0</th>\n",
       "      <td>Yuma County, AZ, USA</td>\n",
       "      <td>53.172</td>\n",
       "      <td>2009.0</td>\n",
       "    </tr>\n",
       "    <tr>\n",
       "      <th>2010.0</th>\n",
       "      <td>Yuma County, AZ, USA</td>\n",
       "      <td>55.550</td>\n",
       "      <td>2010.0</td>\n",
       "    </tr>\n",
       "  </tbody>\n",
       "</table>\n",
       "</div>"
      ],
      "text/plain": [
       "                        FIPS   Water    Year\n",
       "2000.0  Yuma County, AZ, USA  37.250  2000.0\n",
       "2001.0  Yuma County, AZ, USA  38.532  2001.0\n",
       "2002.0  Yuma County, AZ, USA  39.814  2002.0\n",
       "2003.0  Yuma County, AZ, USA  41.096  2003.0\n",
       "2004.0  Yuma County, AZ, USA  42.378  2004.0\n",
       "2005.0  Yuma County, AZ, USA  43.660  2005.0\n",
       "2006.0  Yuma County, AZ, USA  46.038  2006.0\n",
       "2007.0  Yuma County, AZ, USA  48.416  2007.0\n",
       "2008.0  Yuma County, AZ, USA  50.794  2008.0\n",
       "2009.0  Yuma County, AZ, USA  53.172  2009.0\n",
       "2010.0  Yuma County, AZ, USA  55.550  2010.0"
      ]
     },
     "execution_count": 157,
     "metadata": {},
     "output_type": "execute_result"
    }
   ],
   "source": []
  },
  {
   "cell_type": "code",
   "execution_count": null,
   "metadata": {
    "collapsed": true
   },
   "outputs": [],
   "source": []
  }
 ],
 "metadata": {
  "kernelspec": {
   "display_name": "Python 3.5",
   "language": "python",
   "name": "python35"
  },
  "language_info": {
   "codemirror_mode": {
    "name": "ipython",
    "version": 3
   },
   "file_extension": ".py",
   "mimetype": "text/x-python",
   "name": "python",
   "nbconvert_exporter": "python",
   "pygments_lexer": "ipython3",
   "version": "3.5.1"
  }
 },
 "nbformat": 4,
 "nbformat_minor": 0
}
